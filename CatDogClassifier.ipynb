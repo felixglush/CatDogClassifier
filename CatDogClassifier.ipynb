{
 "cells": [
  {
   "cell_type": "markdown",
   "metadata": {},
   "source": [
    "This is a network that does feature-extraction on a network trained on the ImageNet dataset. After a few image batches it is approximately 95% accurate on the test data and can get up to 97.5% accuracy after a few more iterations."
   ]
  },
  {
   "cell_type": "code",
   "execution_count": null,
   "metadata": {},
   "outputs": [],
   "source": [
    "import torch\n",
    "from torch import nn\n",
    "from torch import optim\n",
    "import torch.nn.functional as F\n",
    "from torchvision import datasets, transforms, models\n",
    "from collections import OrderedDict"
   ]
  },
  {
   "cell_type": "code",
   "execution_count": null,
   "metadata": {},
   "outputs": [],
   "source": [
    "def save_model(checkpoint):\n",
    "    torch.save(checkpoint, 'catdog_classifier.pth')"
   ]
  },
  {
   "cell_type": "code",
   "execution_count": null,
   "metadata": {},
   "outputs": [],
   "source": [
    "device = torch.device(\"cuda:0\" if torch.cuda.is_available() else \"cpu\")\n",
    "print(\"Device \", device)"
   ]
  },
  {
   "cell_type": "code",
   "execution_count": null,
   "metadata": {},
   "outputs": [],
   "source": [
    "# Load the data\n",
    "data_dir = 'Cat_Dog_data'\n",
    "\n",
    "# the pretrained network was trained with means [0.485, 0.456, 0.406] and std. devs. [0.229, 0.224, 0.225]\n",
    "# and expects images cropped to 224x224 pixels\n",
    "train_transforms = transforms.Compose([transforms.RandomRotation(30), \n",
    "                                       transforms.RandomResizedCrop(224), \n",
    "                                       transforms.RandomHorizontalFlip(), \n",
    "                                       transforms.ToTensor(),\n",
    "                                       transforms.Normalize([0.485, 0.456, 0.406],\n",
    "                                                            [0.229, 0.224, 0.225])])\n",
    "\n",
    "test_transforms = transforms.Compose([transforms.Resize(255), \n",
    "                                      transforms.CenterCrop(224), \n",
    "                                      transforms.ToTensor(),\n",
    "                                      transforms.Normalize([0.485, 0.456, 0.406],\n",
    "                                                           [0.229, 0.224, 0.225])])\n",
    "\n",
    "train_data = datasets.ImageFolder(data_dir + '/train', transform=train_transforms)\n",
    "test_data = datasets.ImageFolder(data_dir + '/test', transform=test_transforms)\n",
    "trainloader = torch.utils.data.DataLoader(train_data, batch_size=64, shuffle=True)\n",
    "testloader = torch.utils.data.DataLoader(test_data, batch_size=64)\n",
    "print(f\"{len(trainloader)} images loaded into trainloader\")\n",
    "print(f\"{len(testloader)} images loaded into testloader\")"
   ]
  },
  {
   "cell_type": "code",
   "execution_count": null,
   "metadata": {},
   "outputs": [],
   "source": [
    "# Hyperparameters\n",
    "input_layer = 2048\n",
    "hidden_layer = 512\n",
    "output_layer = 2\n",
    "hidden_layer_dropout = 0.25\n",
    "epochs = 1"
   ]
  },
  {
   "cell_type": "code",
   "execution_count": null,
   "metadata": {},
   "outputs": [],
   "source": [
    "# Setup the pretrained network and the classifier for training\n",
    "model = models.resnet50(pretrained=True)\n",
    "\n",
    "# freeze the pretained model's parameters\n",
    "for param in model.parameters():\n",
    "    param.requires_grad = False\n",
    "\n",
    "# define my classifier that will be trained on the cat and dog images\n",
    "cat_dog_classifier = nn.Sequential(OrderedDict([\n",
    "    ('fc1', nn.Linear(input_layer, hidden_layer)),\n",
    "    ('relu', nn.ReLU()),\n",
    "    ('dropout', nn.Dropout(p=hidden_layer_dropout)),\n",
    "    ('fc2', nn.Linear(hidden_layer, output_layer)),\n",
    "    ('output', nn.LogSoftmax(dim=1))\n",
    "]))\n",
    "\n",
    "model.fc = cat_dog_classifier\n",
    "print(\"Model with new classifier \", model)\n",
    "\n",
    "model.to(device)"
   ]
  },
  {
   "cell_type": "code",
   "execution_count": null,
   "metadata": {},
   "outputs": [],
   "source": [
    "criterion = nn.NLLLoss()\n",
    "optimizer = optim.Adam(model.fc.parameters(), lr=0.01)\n",
    "steps = 0\n",
    "saved = False\n",
    "train_loss = 0\n",
    "\n",
    "print(\"Starting training...\")\n",
    "train_losses, test_losses = [], []\n",
    "for e in range(epochs):\n",
    "    print(f\"Training epoch: {e + 1}\")\n",
    "    for images, labels in trainloader:\n",
    "        steps += 1\n",
    "        images, labels = images.to(device), labels.to(device)\n",
    "        \n",
    "        # forward pass, backpropagate, step\n",
    "        optimizer.zero_grad()\n",
    "        outputs = model.forward(images)\n",
    "        loss = criterion(outputs, labels)\n",
    "        loss.backward()\n",
    "        optimizer.step()\n",
    "        train_loss += loss.item()\n",
    "        \n",
    "        # test the model every 3 image batches and save it if accuracy on test data is over 97.5%\n",
    "        if steps % 3 == 0: \n",
    "            test_loss = 0\n",
    "            accuracy = 0\n",
    "            model.eval()\n",
    "\n",
    "            with torch.no_grad():\n",
    "                for images, labels in testloader:\n",
    "                    images, labels = images.to(device), labels.to(device)\n",
    "\n",
    "                    log_probs = model(images)\n",
    "                    probs = torch.exp(log_probs)\n",
    "\n",
    "                    loss = criterion(log_probs, labels)\n",
    "                    test_loss += loss.item()\n",
    "\n",
    "                    top_p, top_class = probs.topk(1, dim=1)\n",
    "                    equals = top_class == labels.view(*top_class.shape)\n",
    "                    accuracy += torch.mean(equals.type(torch.FloatTensor))\n",
    "\n",
    "            model.train()\n",
    "            train_losses.append(train_loss / len(trainloader)) \n",
    "            test_losses.append(test_loss / len(testloader))\n",
    "            \n",
    "            print(\"Epoch: {}/{}.. \".format(e + 1, epochs),\n",
    "                  \"Training Loss: {:.3f}.. \".format(train_loss / len(trainloader)),  # avg train loss over 3 batches\n",
    "                  \"Test Loss: {:.3f}.. \".format(test_loss / len(testloader)), # avg test loss over 3 batches\n",
    "                  \"Test Accuracy: {:.3f}\".format(accuracy / len(testloader))) # avg accuracy of model on test data after training on 3 batches\n",
    "            \n",
    "            train_loss = 0\n",
    "            if accuracy / len(testloader) > 0.975: \n",
    "                checkpoint = {'input_size': input_layer, \n",
    "                              'output_size': output_layer, \n",
    "                              'state_dict': model.state_dict()}\n",
    "                save_model(checkpoint)\n",
    "                saved = True\n",
    "                print(\"Saved cat dog classifier. Breaking.\")\n",
    "                break;\n",
    "                \n",
    "print(\"Done training.\")\n",
    "if not saved:\n",
    "    save_model({'input_size': input_layer, 'output_size': output_layer, 'state_dict': model.state_dict()})"
   ]
  },
  {
   "cell_type": "markdown",
   "metadata": {},
   "source": [
    "Sample training run:\n",
    "```\n",
    "Epoch: 1/1..  Training Loss: 0.094..  Test Loss: 18.271..  Test Accuracy: 0.488\n",
    "Epoch: 1/1..  Training Loss: 0.080..  Test Loss: 4.909..  Test Accuracy: 0.512\n",
    "Epoch: 1/1..  Training Loss: 0.033..  Test Loss: 1.656..  Test Accuracy: 0.495\n",
    "Epoch: 1/1..  Training Loss: 0.020..  Test Loss: 0.222..  Test Accuracy: 0.911\n",
    "Epoch: 1/1..  Training Loss: 0.006..  Test Loss: 0.186..  Test Accuracy: 0.930\n",
    "Epoch: 1/1..  Training Loss: 0.004..  Test Loss: 0.180..  Test Accuracy: 0.933\n",
    "Epoch: 1/1..  Training Loss: 0.004..  Test Loss: 0.105..  Test Accuracy: 0.966\n",
    "Epoch: 1/1..  Training Loss: 0.003..  Test Loss: 0.102..  Test Accuracy: 0.977\n",
    "```"
   ]
  }
 ],
 "metadata": {
  "kernelspec": {
   "display_name": "Python 3",
   "language": "python",
   "name": "python3"
  },
  "language_info": {
   "codemirror_mode": {
    "name": "ipython",
    "version": 3
   },
   "file_extension": ".py",
   "mimetype": "text/x-python",
   "name": "python",
   "nbconvert_exporter": "python",
   "pygments_lexer": "ipython3",
   "version": "3.7.2"
  }
 },
 "nbformat": 4,
 "nbformat_minor": 2
}
